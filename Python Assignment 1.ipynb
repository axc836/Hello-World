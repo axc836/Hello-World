{
 "cells": [
  {
   "cell_type": "code",
   "execution_count": 26,
   "id": "cae50635",
   "metadata": {},
   "outputs": [],
   "source": [
    "#student marks\n",
    "student_marks=[['Name',['A','B','C','D','E']],\n",
    "               ['Ankit', [41,34,45,55,63]],\n",
    "               ['Aravind', [42,23,34,44,53]],\n",
    "               ['Lakshay', [32,23,13,54,67]],\n",
    "               ['Gyan', [23,82,23,63,34]],\n",
    "               ['Pranav', [21,23,25,56,56]]]"
   ]
  },
  {
   "cell_type": "code",
   "execution_count": 68,
   "id": "b6b06985",
   "metadata": {},
   "outputs": [
    {
     "name": "stdout",
     "output_type": "stream",
     "text": [
      "Person scored the highest marks in the subject B is ['Gyan'] with score of [82] .\n"
     ]
    }
   ],
   "source": [
    "#Who scored the highest marks in the subject B?\n",
    "student_name_in_B = []\n",
    "student_mark_in_B = []\n",
    "name = student_marks[1][0]\n",
    "marks_in_B = student_marks[1][1][1]\n",
    "\n",
    "for student in student_marks[1:]:\n",
    "    my_name = student[0]\n",
    "    my_marks_in_B = student[1][1]\n",
    "    if my_marks_in_B>marks_in_B:\n",
    "        student_name_in_B.append(my_name)\n",
    "        student_mark_in_B.append(my_marks_in_B)\n",
    "        \n",
    "print(\"Person scored the highest marks in the subject B is\", student_name_in_B, \"with score of\",student_mark_in_B,\".\")\n"
   ]
  },
  {
   "cell_type": "code",
   "execution_count": 69,
   "id": "cda5fa7c",
   "metadata": {},
   "outputs": [
    {
     "name": "stdout",
     "output_type": "stream",
     "text": [
      "Average marks scored in the subject C is 28.0\n"
     ]
    }
   ],
   "source": [
    "#What is the average marks scored in the subject C?\n",
    "i0=1\n",
    "subject_c_score=student_marks[i0][1][2]\n",
    "\n",
    "while (i0<5):\n",
    "    i0=i0+1\n",
    "    my_score=student_marks[i0][1][2]\n",
    "    subject_c_score=subject_c_score + my_score\n",
    "    avg_score=subject_c_score/i0\n",
    "\n",
    "print(\"Average marks scored in the subject C is\", avg_score)\n"
   ]
  },
  {
   "cell_type": "code",
   "execution_count": 70,
   "id": "05d78043",
   "metadata": {},
   "outputs": [
    {
     "name": "stdout",
     "output_type": "stream",
     "text": [
      "['Ankit'] scored highest percentage of marks with total score of 238\n"
     ]
    }
   ],
   "source": [
    "#Who scored highest percentage of marks?\n",
    "i0=1\n",
    "tot_score=sum(student_marks[i0][1])\n",
    "tot_name=[student_marks[i0][0]]\n",
    "\n",
    "while (i0<5):\n",
    "    i0=i0+1\n",
    "    my_score=sum(student_marks[i0][1])\n",
    "    my_name=student_marks[i0][0]\n",
    "    if my_score>=tot_score:\n",
    "        tot_score=my_score\n",
    "        tot_name=tot_name.append(my_name)\n",
    "\n",
    "print(tot_name,\"scored highest percentage of marks with total score of\", tot_score)\n"
   ]
  },
  {
   "cell_type": "code",
   "execution_count": 81,
   "id": "712e9399",
   "metadata": {},
   "outputs": [
    {
     "name": "stdout",
     "output_type": "stream",
     "text": [
      "['Ankit'] scored highest percentage of marks among his/her top 4 subjects with top 4 total score  204\n"
     ]
    }
   ],
   "source": [
    "#Highest scores of individual candidate's top 4 subjects?\n",
    "i0=1\n",
    "top_4_score=sum(sorted(student_marks[i0][1],reverse=True)[:4])\n",
    "top_4_name=[student_marks[i0][0]]\n",
    "\n",
    "while (i0<5):\n",
    "    i0=i0+1\n",
    "    my_score=sum(sorted(student_marks[i0][1],reverse=True)[0:4])\n",
    "    my_name=student_marks[i0][0]\n",
    "    if my_score>=top_4_score:\n",
    "        top_4_score=my_score\n",
    "        top_4_name=top_4_name.append(my_name)\n",
    "\n",
    "print(top_4_name,\"scored highest percentage of marks among his/her top 4 subjects with top 4 total score \", top_4_score)\n"
   ]
  }
 ],
 "metadata": {
  "kernelspec": {
   "display_name": "Python 3 (ipykernel)",
   "language": "python",
   "name": "python3"
  },
  "language_info": {
   "codemirror_mode": {
    "name": "ipython",
    "version": 3
   },
   "file_extension": ".py",
   "mimetype": "text/x-python",
   "name": "python",
   "nbconvert_exporter": "python",
   "pygments_lexer": "ipython3",
   "version": "3.9.7"
  }
 },
 "nbformat": 4,
 "nbformat_minor": 5
}
